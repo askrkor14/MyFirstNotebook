{
 "cells": [
  {
   "cell_type": "markdown",
   "id": "00de9286-501e-4a40-9c85-35616336508f",
   "metadata": {},
   "source": [
    "# Data Science Tools and Ecosystem"
   ]
  },
  {
   "cell_type": "markdown",
   "id": "5b93dd3c-9cef-4045-ab8f-e049b1d9c330",
   "metadata": {},
   "source": [
    "In this notebook, Data Science Tools and Ecosystem are summarized."
   ]
  },
  {
   "cell_type": "markdown",
   "id": "da488470-5e87-4098-8df7-b5d38d0917c3",
   "metadata": {},
   "source": [
    "**Objectives:**\n",
    "- List popular languages for Data Science\n",
    "- List commonly used libraries by Data Scientists\n",
    "- Evaluate arithmetic expressions in Python"
   ]
  },
  {
   "cell_type": "markdown",
   "id": "b96ba9a0-4e0e-4ff1-a83b-e2efbe80cf72",
   "metadata": {},
   "source": [
    "Some of the popular languages that Data Scientists use are:\n",
    "1. Python\n",
    "2. R\n",
    "3. Scala\n",
    "4. SQL\n",
    "5. Julia"
   ]
  },
  {
   "cell_type": "markdown",
   "id": "442171fc-496b-4ac5-935b-2585ad9aeba6",
   "metadata": {},
   "source": [
    "Some of the commonly used libraries used by Data Scientists include:\n",
    "1. Pandas\n",
    "2. Numpy\n",
    "3. Matplotlib\n",
    "4. Seaborn\n",
    "5. Scikit Learn\n",
    "6. Keras\n",
    "7. Tensor Flow"
   ]
  },
  {
   "cell_type": "markdown",
   "id": "8f7cc810-e3d4-4030-b0e1-d4ee9499d6ad",
   "metadata": {},
   "source": [
    "Some of the development environment open source tools used in data science include:\n",
    "\n",
    "| Data Science Tools |\n",
    "|-------------------|\n",
    "| Jupyter Notebook |\n",
    "| Jupyter Lab |\n",
    "| R Studio |\n",
    "| Apache Zeppelin |"
   ]
  },
  {
   "cell_type": "markdown",
   "id": "03b74b38-1e7d-481d-a14d-3e60d2f1d227",
   "metadata": {},
   "source": [
    "### Below are a few examples of evaluating arithmetic expressions in Python"
   ]
  },
  {
   "cell_type": "code",
   "execution_count": 3,
   "id": "6f56c869-6406-449d-a284-8b9610ae01af",
   "metadata": {},
   "outputs": [
    {
     "data": {
      "text/plain": [
       "17"
      ]
     },
     "execution_count": 3,
     "metadata": {},
     "output_type": "execute_result"
    }
   ],
   "source": [
    "# This is a simple arithmetic expression to multiply then add integers\n",
    "(3*4)+5"
   ]
  },
  {
   "cell_type": "code",
   "execution_count": 4,
   "id": "73280259-1686-4b61-a6ea-2ad8537e6466",
   "metadata": {},
   "outputs": [
    {
     "data": {
      "text/plain": [
       "3.3333333333333335"
      ]
     },
     "execution_count": 4,
     "metadata": {},
     "output_type": "execute_result"
    }
   ],
   "source": [
    "# This will convert 200 minutes to hours by dividing by 60\n",
    "200/60"
   ]
  },
  {
   "cell_type": "markdown",
   "id": "ec5d1f54-6e5a-485b-bc2c-48f1efe18607",
   "metadata": {},
   "source": [
    "## Author\n",
    "Sumit Kumar Bansal"
   ]
  }
 ],
 "metadata": {
  "kernelspec": {
   "display_name": "Python 3 (ipykernel)",
   "language": "python",
   "name": "python3"
  },
  "language_info": {
   "codemirror_mode": {
    "name": "ipython",
    "version": 3
   },
   "file_extension": ".py",
   "mimetype": "text/x-python",
   "name": "python",
   "nbconvert_exporter": "python",
   "pygments_lexer": "ipython3",
   "version": "3.12.8"
  }
 },
 "nbformat": 4,
 "nbformat_minor": 5
}
